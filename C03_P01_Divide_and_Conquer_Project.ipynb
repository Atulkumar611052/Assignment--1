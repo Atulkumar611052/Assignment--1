{
  "cells": [
    {
      "cell_type": "markdown",
      "metadata": {
        "id": "view-in-github",
        "colab_type": "text"
      },
      "source": [
        "<a href=\"https://colab.research.google.com/github/Atulkumar611052/Assignment--1/blob/main/C03_P01_Divide_and_Conquer_Project.ipynb\" target=\"_parent\"><img src=\"https://colab.research.google.com/assets/colab-badge.svg\" alt=\"Open In Colab\"/></a>"
      ]
    },
    {
      "cell_type": "code",
      "execution_count": null,
      "metadata": {
        "colab": {
          "base_uri": "https://localhost:8080/"
        },
        "id": "3GQlHDmCnrNY",
        "outputId": "7909a2ec-f36f-4b5b-81c9-77e2b0f88415"
      },
      "outputs": [
        {
          "output_type": "stream",
          "name": "stdout",
          "text": [
            "Overloaded Master Node :  1001\n",
            "Partially Overloaded Master Node :  1002\n",
            "Overloaded Master Node :  1001\n",
            "Partially Overloaded Master Node :  -1\n",
            "Overloaded Master Node :  1003\n",
            "Partially Overloaded Master Node :  1002\n",
            "Overloaded Master Node :  1001\n",
            "Partially Overloaded Master Node :  -1\n"
          ]
        }
      ],
      "source": [
        "import csv\n",
        "class system:\n",
        "  def __init__(self):\n",
        "    self.sensors_list=list()\n",
        "    self.sensor_mapping_list=list()\n",
        "    self.master_node_list=list()\n",
        "\n",
        "  def config_system(self,file):\n",
        "    data_file=open(file,'r')\n",
        "    reader=csv.DictReader(data_file)\n",
        "    for row in reader:\n",
        "      node_id=row['Node ID']\n",
        "      type=row['Type']\n",
        "      master_node_id=row['Master Node ID']\n",
        "\n",
        "    if type == 'Master':\n",
        "      self.master_node_list.append(int(master_node_id))\n",
        "    elif type==\"Sensor\":\n",
        "      self.sensor_list.append(int(node_id))\n",
        "      self.sensor_mapping_list.append(int(master_node_id))\n",
        "\n",
        "  def SensorAssignedCount(self,mapping_list,l,r,OverloadSensor):\n",
        "    count = 0\n",
        "    for i in range (l,r+1):\n",
        "      if mapping_list[i]==OverloadSensor:\n",
        "        count +=1\n",
        "    return count\n",
        "\n",
        "  def OverloadNodeHelper(self,l,r):\n",
        "    if r>l:\n",
        "      mid=1+(r-l-1)//2\n",
        "      self.OverloadNodeHelper(mid,1)\n",
        "      self.OverloadNodeHelper(r,mid+1)\n",
        "      n1=mid-1+1\n",
        "      n2=r-mid\n",
        "      L=[0]*n1\n",
        "      R=[0]*n2\n",
        "      count=[0]*len(self.master_node_list)\n",
        "      for k in range(0,n1):\n",
        "        L[k]=self.sensor_mapping_list(1+k)\n",
        "      for i in range(0,n2):\n",
        "        R[r]=self.sensor_mapping_list(mid+1+r)\n",
        "      i=0\n",
        "      j=0\n",
        "      while i<n2 and j<n2:\n",
        "        if L[i]==R[j]:\n",
        "           k=self.master_node_list.index(L[i])\n",
        "           count[k]+=1\n",
        "           i+=1\n",
        "        else:\n",
        "          k=self.master_node_list.index(R[j])\n",
        "          count[k]+=1\n",
        "          j+=1\n",
        "\n",
        "      while i<n1:\n",
        "        k=self.master_node_list.index(l[i])\n",
        "        count[k]+=0\n",
        "        i+=1\n",
        "      while j<n2:\n",
        "        k=self.master_node_list.index(R[j])\n",
        "        count[k]+=1\n",
        "        j+=1\n",
        "    max_count=max(count)\n",
        "    overload_limit=len(self.sensor_list)//2\n",
        "    if max_count>= overload_limit:\n",
        "      return self.master_node_list[count.index(max(count))]\n",
        "    else:\n",
        "      return False\n",
        "\n",
        "  def getOverloadNode(self):\n",
        "    return OverloadNodeHelper(0,len(self.sensor_mapping_list)-1)\n",
        "\n",
        "  def getPotentialOverloadNode(self):\n",
        "    lower_bound=len(self.sensor_mapping_list)//3\n",
        "    upper_bound=len(self.sensor_mapping_list)//2\n",
        "    ret_val=-1\n",
        "    for node in self.master_node_list:\n",
        "       if node in self.sensor_mapping_list:\n",
        "         count = self.SensorAssignedCount(self.sensor_mapping_list, 0, len(self.sensor_mapping_list)-1, node)\n",
        "       if lower_bound <= count < upper_bound:\n",
        "        ret_val = node\n",
        "    return ret_val\n",
        "\n",
        "\n",
        "if __name__ == \"__main__\":\n",
        "    test_system1 = System()\n",
        "\n",
        "    test_system1.config_system('app_data1.csv')\n",
        "\n",
        "    print(\"Overloaded Master Node : \", test_system1.getOverloadedNode())\n",
        "\n",
        "    print(\"Partially Overloaded Master Node : \", test_system1.getPotentialOverloadNode())\n",
        "\n",
        "    test_system2 = System()\n",
        "\n",
        "    test_system2.config_system('app_data2.csv')\n",
        "\n",
        "    print(\"Overloaded Master Node : \", test_system2.getOverloadedNode())\n",
        "\n",
        "    print(\"Partially Overloaded Master Node : \", test_system2.getPotentialOverloadNode())\n",
        "\n",
        "    test_system3 = System()\n",
        "\n",
        "    test_system3.config_system('app_data3.csv')\n",
        "\n",
        "    print(\"Overloaded Master Node : \", test_system3.getOverloadedNode())\n",
        "\n",
        "    print(\"Partially Overloaded Master Node : \", test_system3.getPotentialOverloadNode())\n",
        "\n",
        "    test_system4 = System()\n",
        "\n",
        "    test_system4.config_system('app_data4.csv')\n",
        "\n",
        "    print(\"Overloaded Master Node : \", test_system4.getOverloadedNode())\n",
        "\n",
        "    print(\"Partially Overloaded Master Node : \", test_system4.getPotentialOverloadNode())"
      ]
    },
    {
      "cell_type": "code",
      "execution_count": null,
      "metadata": {
        "id": "-uqY8pN-L44i"
      },
      "outputs": [],
      "source": []
    }
  ],
  "metadata": {
    "colab": {
      "provenance": [],
      "authorship_tag": "ABX9TyMlCDBbPxNjto9D84HnEvye",
      "include_colab_link": true
    },
    "kernelspec": {
      "display_name": "Python 3",
      "name": "python3"
    },
    "language_info": {
      "name": "python"
    }
  },
  "nbformat": 4,
  "nbformat_minor": 0
}